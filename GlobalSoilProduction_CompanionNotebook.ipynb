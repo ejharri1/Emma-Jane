{
 "cells": [
  {
   "cell_type": "markdown",
   "metadata": {},
   "source": [
    "## Global rates of soil production independent of soil depth\n",
    "E.J. Harrison\n",
    "\n",
    "ejharris@ucsd.edu\n",
    "\n",
    "This is a companion notebook to a manuscript submitted to *Science*. In this manuscript, we compare soil production rates measured in study areas that are geologically and climatically stable with soil production rates measured in landscapes that adjust to maintain dynamic equilibrium with a changing baselevel. We find that soil production rates increase exponentially with decreasing soil depth only in active landscapes, and that in stable settings soil production is depth-invariant. \n",
    "\n",
    "In this jupyter notebook we present the companion model to this analysis, which demonstrates that an exponential depth-dependence can be erroneously predicted from the method of measuring the [10Be] concentrations of samples collected at depth. The notebook it divided into three parts.\n",
    "\n",
    "**Part 1:** A model hillslope is created in which the soil mantle covering the slope increases slightly with distance from the drainage divide.\n",
    "\n",
    "**Part 2:** The modeled soil mantle is eroded by different amounts incrementally. The amount of erosion is related linearly to the slope at points along the curved line representing the hillslope surface. Multiple coefficients for this linear relationship are tested.\n",
    "\n",
    "**Part 3:** An exponential regression is run on each array of values representing the soil thickness and the soil production rate for each of the modeled scenarios.\n",
    "\n",
    "**Part 4:** The exponential equations best fitting each model run are visualized and compared with the published datasets.\n",
    "\n",
    "Python 3.7.4"
   ]
  },
  {
   "cell_type": "markdown",
   "metadata": {},
   "source": [
    "Import the modules used in this notebook"
   ]
  },
  {
   "cell_type": "code",
   "execution_count": 1,
   "metadata": {},
   "outputs": [],
   "source": [
    "import pandas as pd\n",
    "import matplotlib.pyplot as plt\n",
    "import numpy as np\n",
    "from scipy.optimize import curve_fit\n",
    "from matplotlib import rcParams\n",
    "from mpl_toolkits.axes_grid1 import make_axes_locatable\n",
    "from mpl_toolkits.axes_grid1.colorbar import colorbar\n",
    "import matplotlib as mpl\n",
    "import matplotlib.ticker as mtick\n",
    "from matplotlib.ticker import (MultipleLocator, FormatStrFormatter,\n",
    "                               AutoMinorLocator)"
   ]
  },
  {
   "cell_type": "markdown",
   "metadata": {},
   "source": [
    "Define the functions used in this notebook"
   ]
  },
  {
   "cell_type": "code",
   "execution_count": 2,
   "metadata": {},
   "outputs": [],
   "source": [
    "def explode(df, lst_cols, fill_value='', preserve_index=False):\n",
    "    \"\"\"Split (explode) pandas dataframe string entry to separate rows.\n",
    "    \n",
    "    Parameters\n",
    "    ----------\n",
    "    df : \n",
    "    lst_cols :\n",
    "    fill_value : (optional)\n",
    "    preserve_index : (optional)\n",
    "    \n",
    "    Returns\n",
    "    --------\n",
    "    df :\n",
    "    \n",
    "    Function copied from : \n",
    "    https://stackoverflow.com/questions/12680754/split-explode-pandas-dataframe-string-entry-to-separate-rows/40449726#40449726\n",
    "    \n",
    "    \"\"\"\n",
    "    # make sure `lst_cols` is list-alike\n",
    "    if (lst_cols is not None\n",
    "        and len(lst_cols) > 0\n",
    "        and not isinstance(lst_cols, (list, tuple, np.ndarray, pd.Series))):\n",
    "        lst_cols = [lst_cols]\n",
    "    # all columns except `lst_cols`\n",
    "    idx_cols = df.columns.difference(lst_cols)\n",
    "    # calculate lengths of lists\n",
    "    lens = df[lst_cols[0]].str.len()\n",
    "    # preserve original index values    \n",
    "    idx = np.repeat(df.index.values, lens)\n",
    "    # create \"exploded\" DF\n",
    "    res = (pd.DataFrame({\n",
    "                col:np.repeat(df[col].values, lens)\n",
    "                for col in idx_cols},\n",
    "                index=idx)\n",
    "             .assign(**{col:np.concatenate(df.loc[lens>0, col].values)\n",
    "                            for col in lst_cols}))\n",
    "    # append those rows that have empty lists\n",
    "    if (lens == 0).any():\n",
    "        # at least one list in cells is empty\n",
    "        res = (res.append(df.loc[lens==0, idx_cols], sort=False)\n",
    "                  .fillna(fill_value))\n",
    "    # revert the original index order\n",
    "    res = res.sort_index()\n",
    "    # reset index if requested\n",
    "    if not preserve_index:        \n",
    "        res = res.reset_index(drop=True)\n",
    "    return res"
   ]
  },
  {
   "cell_type": "code",
   "execution_count": 3,
   "metadata": {},
   "outputs": [],
   "source": [
    "def exponential_fit(x, a, k):\n",
    "    \"\"\"Calculate exponential change in *x*\n",
    "    \n",
    "    Parameters\n",
    "    ----------\n",
    "    x : float ndarray\n",
    "        The x-values.\n",
    "    a : float or 1-element float ndarray\n",
    "        The inital value of the function.\n",
    "    k : float or 1-element float ndarray\n",
    "        The rate of growth.\n",
    "    \n",
    "    Returns\n",
    "    -------\n",
    "    float ndarray\n",
    "        The fitted y-values.\n",
    "    \n",
    "    \"\"\"\n",
    "    return a* np.exp(-k *x)"
   ]
  },
  {
   "cell_type": "markdown",
   "metadata": {},
   "source": [
    "## PART I\n",
    "### Creating a model hillslope\n",
    "\n",
    "Here, the function of a parabola is defined:"
   ]
  },
  {
   "cell_type": "code",
   "execution_count": 4,
   "metadata": {},
   "outputs": [],
   "source": [
    "def f(x):\n",
    "    return x**2 +6*x"
   ]
  },
  {
   "cell_type": "markdown",
   "metadata": {},
   "source": [
    "Generate two depth surfaces representing the subaerial and soil-saprolite surfaces"
   ]
  },
  {
   "cell_type": "code",
   "execution_count": 5,
   "metadata": {},
   "outputs": [],
   "source": [
    "x = np.linspace(0,20,20) # create an evenly spaced value array between 0,50\n",
    "sap_soil = (f(x)+100) # value array representing soil-saprolite interface\n",
    "const_soil = f(x) # value array representing subaerial soil surface of constant thickness"
   ]
  },
  {
   "cell_type": "markdown",
   "metadata": {},
   "source": [
    "A second parabolic function with more steeply graded curature is defined here:"
   ]
  },
  {
   "cell_type": "code",
   "execution_count": 6,
   "metadata": {},
   "outputs": [],
   "source": [
    "def f(c):\n",
    "    return c**2 +2*c"
   ]
  },
  {
   "cell_type": "markdown",
   "metadata": {},
   "source": [
    "And a surface representing the second parabola is generated."
   ]
  },
  {
   "cell_type": "code",
   "execution_count": 7,
   "metadata": {},
   "outputs": [],
   "source": [
    "c = np.linspace(0,20,20)\n",
    "curv_soil = (f(c))"
   ]
  },
  {
   "cell_type": "markdown",
   "metadata": {},
   "source": [
    "The slope of the parabolic function (c) is calculated for 20 points along the curve:"
   ]
  },
  {
   "cell_type": "code",
   "execution_count": 8,
   "metadata": {},
   "outputs": [],
   "source": [
    "# define list of points\n",
    "up = abs(curv_soil) # absolute value of \"elevations\"\n",
    "over = x * 100 # match vertical exaggeration in display plot\n",
    "\n",
    "# list iteration to generate a list of slope values\n",
    "rise = [j-i for i, j in zip(up[:-1], up[1:])] # change in y \n",
    "run = [j-i for i, j in zip(over[:-1], over[1:])] # change in x\n",
    "slope = [(i/j)*100 for i, j in zip(rise, run)]\n",
    "slope = [abs(number) for number in slope]\n",
    "slope.insert(0,0) # insert 0 for the first point\n",
    "slope = [round(num, 0) for num in slope] # round list"
   ]
  },
  {
   "cell_type": "markdown",
   "metadata": {},
   "source": [
    "The surfaces are plotted together to visualize the model hillslope."
   ]
  },
  {
   "cell_type": "code",
   "execution_count": 9,
   "metadata": {},
   "outputs": [
    {
     "data": {
      "image/png": "[encoded data removed]",
      "text/plain": [
       "<Figure size 792x504 with 1 Axes>"
      ]
     },
     "metadata": {
      "needs_background": "light"
     },
     "output_type": "display_data"
    }
   ],
   "source": [
    "fig, ax = plt.subplots(figsize=(11,7))\n",
    "\n",
    "# Visualize the surfaces -------------------------------------------------\n",
    "ax.plot(x, sap_soil, color='k', linewidth=3, label='Soil-saprolite interface') # soil-saprolite interface\n",
    "ax.fill_between(x, 800, sap_soil, facecolor='white', hatch='//', edgecolor='lightgrey', label='Bedrock') # color in bedrock\n",
    "\n",
    "# constant thickness surface for visualization\n",
    "ax.plot(x, const_soil, color='k', linewidth=2, linestyle=':', label='Constant soil thickness') \n",
    "\n",
    "ax.plot(x, curv_soil, color='k', label='Modeled subaerial surface', zorder=1) # subaerial soil surface \n",
    "ax.fill_between(x, sap_soil, curv_soil, alpha=0.5, color='lightgrey', label='Mobile regolith') # color in soil\n",
    "\n",
    "# slope values\n",
    "ax.scatter(x, curv_soil, c=slope, s=60, edgecolor='k', zorder=2, label='% Slope values')\n",
    "\n",
    "ax.invert_yaxis()\n",
    "ax.set_axis_off()\n",
    "ax.legend(frameon=False, bbox_to_anchor=(1.35, 1), loc='upper right')\n",
    "ax.set_title('Soil mantled 2D hillslope', fontsize=18)\n",
    "plt.show()"
   ]
  },
  {
   "cell_type": "markdown",
   "metadata": {},
   "source": [
    "A dataframe is generated to store the values."
   ]
  },
  {
   "cell_type": "code",
   "execution_count": 10,
   "metadata": {},
   "outputs": [],
   "source": [
    "depth2sap = pd.DataFrame() # initialize df \n",
    "depth2sap['depth'] = abs(curv_soil-sap_soil) # compute regolith thickness\n",
    "depth2sap = depth2sap.round(decimals=0) # round to whole numbers\n",
    "depth2sap['slope'] = slope"
   ]
  },
  {
   "cell_type": "markdown",
   "metadata": {},
   "source": [
    "Calculate a $^{10}$Be production rate for each depth interval, using **equation 1**:\n",
    "\n",
    "### $P_z = P_o e^{-z\\rho / \\Lambda}$\n",
    "\n",
    "#### Variables in arrays: \n",
    "\n",
    "$P_o$ = Surface production rate = 5 [atoms g-1 yr-1]\n",
    "\n",
    "$\\rho$ = Soil density = 1.4 [g cm-3]\n",
    "\n",
    "#### Constant:\n",
    "\n",
    "$\\Lambda$ = Attenuation length = 165 [g cm-1]"
   ]
  },
  {
   "cell_type": "code",
   "execution_count": 11,
   "metadata": {},
   "outputs": [],
   "source": [
    "def p_rate(i):\n",
    "    return 5 * np.exp(-i*1.4/165)"
   ]
  },
  {
   "cell_type": "markdown",
   "metadata": {},
   "source": [
    "$^{10}$Be production rate is calculated using the function \"p_rate\" and stored as a column in the dataframe \"depth2sap\":"
   ]
  },
  {
   "cell_type": "code",
   "execution_count": 12,
   "metadata": {},
   "outputs": [],
   "source": [
    "depth2sap['p_rate'] = depth2sap['depth'].apply(p_rate)"
   ]
  },
  {
   "cell_type": "markdown",
   "metadata": {},
   "source": [
    "Calculate the nuclide concentration at depth $z$ from **equation 2**:\n",
    "### $C_z = P_z  \\left( \\frac{1}{\\lambda + \\frac{\\rho \\in}{\\Lambda}} \\right)$\n",
    "\n",
    "#### Constants:\n",
    "\n",
    "$\\lambda$ = $^{10}$Be decay constant = approximated as 0 for this simulation\n",
    "\n",
    "$\\in$ = Erosion rate = 40 [cm yr-1] for this simulation"
   ]
  },
  {
   "cell_type": "code",
   "execution_count": 13,
   "metadata": {},
   "outputs": [],
   "source": [
    "def c_z(p):\n",
    "    return p/((1.4*4)/165)"
   ]
  },
  {
   "cell_type": "markdown",
   "metadata": {},
   "source": [
    "$^{10}$Be concentration is calculated using the function \"c_z\" and stored as a column in the dataframe \"depth2sap\":"
   ]
  },
  {
   "cell_type": "code",
   "execution_count": 14,
   "metadata": {},
   "outputs": [],
   "source": [
    "depth2sap['[be]'] = c_z(depth2sap['p_rate'])"
   ]
  },
  {
   "cell_type": "markdown",
   "metadata": {},
   "source": [
    "The steady-state $^{10}$Be concentration is stored as a variable."
   ]
  },
  {
   "cell_type": "code",
   "execution_count": 15,
   "metadata": {},
   "outputs": [],
   "source": [
    "ss_10be = depth2sap['[be]']"
   ]
  },
  {
   "cell_type": "markdown",
   "metadata": {},
   "source": [
    "Calculate the apparent erosion rate from $C_z$ using **equation 3**:\n",
    "\n",
    "### $E_z = \\left( \\frac {\\Lambda}{\\rho} \\right) \\left( \\frac{P_z}{C_z} \\right)$"
   ]
  },
  {
   "cell_type": "code",
   "execution_count": 16,
   "metadata": {},
   "outputs": [],
   "source": [
    "def e_z(p):\n",
    "    return (165/1.4) * (p/ss_10be)"
   ]
  },
  {
   "cell_type": "markdown",
   "metadata": {},
   "source": [
    "Soil production rate is calculated using the function \"e_z\" and stored as a column in the dataframe \"depth2sap\":"
   ]
  },
  {
   "cell_type": "code",
   "execution_count": 17,
   "metadata": {},
   "outputs": [],
   "source": [
    "depth2sap['e_rate'] = e_z(depth2sap['p_rate'])\n",
    "depth2sap['e_rate'] = depth2sap['e_rate'].astype(float).round(2) # define the data type and round decimals"
   ]
  },
  {
   "cell_type": "markdown",
   "metadata": {},
   "source": [
    "Hillslope is in steady-state, erosion rate is constant everywhere. Visualize the df:"
   ]
  },
  {
   "cell_type": "code",
   "execution_count": 18,
   "metadata": {},
   "outputs": [
    {
     "data": {
      "text/html": [
       "<div>\n",
       "<style scoped>\n",
       "    .dataframe tbody tr th:only-of-type {\n",
       "        vertical-align: middle;\n",
       "    }\n",
       "\n",
       "    .dataframe tbody tr th {\n",
       "        vertical-align: top;\n",
       "    }\n",
       "\n",
       "    .dataframe thead th {\n",
       "        text-align: right;\n",
       "    }\n",
       "</style>\n",
       "<table border=\"1\" class=\"dataframe\">\n",
       "  <thead>\n",
       "    <tr style=\"text-align: right;\">\n",
       "      <th></th>\n",
       "      <th>depth</th>\n",
       "      <th>slope</th>\n",
       "      <th>p_rate</th>\n",
       "      <th>[be]</th>\n",
       "      <th>e_rate</th>\n",
       "    </tr>\n",
       "  </thead>\n",
       "  <tbody>\n",
       "    <tr>\n",
       "      <td>0</td>\n",
       "      <td>100.0</td>\n",
       "      <td>0.0</td>\n",
       "      <td>2.140315</td>\n",
       "      <td>63.062856</td>\n",
       "      <td>4.0</td>\n",
       "    </tr>\n",
       "    <tr>\n",
       "      <td>1</td>\n",
       "      <td>104.0</td>\n",
       "      <td>3.0</td>\n",
       "      <td>2.068893</td>\n",
       "      <td>60.958454</td>\n",
       "      <td>4.0</td>\n",
       "    </tr>\n",
       "    <tr>\n",
       "      <td>2</td>\n",
       "      <td>108.0</td>\n",
       "      <td>5.0</td>\n",
       "      <td>1.999854</td>\n",
       "      <td>58.924275</td>\n",
       "      <td>4.0</td>\n",
       "    </tr>\n",
       "    <tr>\n",
       "      <td>3</td>\n",
       "      <td>113.0</td>\n",
       "      <td>7.0</td>\n",
       "      <td>1.916786</td>\n",
       "      <td>56.476742</td>\n",
       "      <td>4.0</td>\n",
       "    </tr>\n",
       "    <tr>\n",
       "      <td>4</td>\n",
       "      <td>117.0</td>\n",
       "      <td>9.0</td>\n",
       "      <td>1.852823</td>\n",
       "      <td>54.592118</td>\n",
       "      <td>4.0</td>\n",
       "    </tr>\n",
       "    <tr>\n",
       "      <td>5</td>\n",
       "      <td>121.0</td>\n",
       "      <td>11.0</td>\n",
       "      <td>1.790995</td>\n",
       "      <td>52.770384</td>\n",
       "      <td>4.0</td>\n",
       "    </tr>\n",
       "    <tr>\n",
       "      <td>6</td>\n",
       "      <td>125.0</td>\n",
       "      <td>14.0</td>\n",
       "      <td>1.731230</td>\n",
       "      <td>51.009441</td>\n",
       "      <td>4.0</td>\n",
       "    </tr>\n",
       "    <tr>\n",
       "      <td>7</td>\n",
       "      <td>129.0</td>\n",
       "      <td>16.0</td>\n",
       "      <td>1.673459</td>\n",
       "      <td>49.307260</td>\n",
       "      <td>4.0</td>\n",
       "    </tr>\n",
       "    <tr>\n",
       "      <td>8</td>\n",
       "      <td>134.0</td>\n",
       "      <td>18.0</td>\n",
       "      <td>1.603948</td>\n",
       "      <td>47.259188</td>\n",
       "      <td>4.0</td>\n",
       "    </tr>\n",
       "    <tr>\n",
       "      <td>9</td>\n",
       "      <td>138.0</td>\n",
       "      <td>20.0</td>\n",
       "      <td>1.550425</td>\n",
       "      <td>45.682153</td>\n",
       "      <td>4.0</td>\n",
       "    </tr>\n",
       "    <tr>\n",
       "      <td>10</td>\n",
       "      <td>142.0</td>\n",
       "      <td>22.0</td>\n",
       "      <td>1.498687</td>\n",
       "      <td>44.157744</td>\n",
       "      <td>4.0</td>\n",
       "    </tr>\n",
       "    <tr>\n",
       "      <td>11</td>\n",
       "      <td>146.0</td>\n",
       "      <td>24.0</td>\n",
       "      <td>1.448676</td>\n",
       "      <td>42.684203</td>\n",
       "      <td>4.0</td>\n",
       "    </tr>\n",
       "    <tr>\n",
       "      <td>12</td>\n",
       "      <td>151.0</td>\n",
       "      <td>26.0</td>\n",
       "      <td>1.388502</td>\n",
       "      <td>40.911233</td>\n",
       "      <td>4.0</td>\n",
       "    </tr>\n",
       "    <tr>\n",
       "      <td>13</td>\n",
       "      <td>155.0</td>\n",
       "      <td>28.0</td>\n",
       "      <td>1.342168</td>\n",
       "      <td>39.546029</td>\n",
       "      <td>4.0</td>\n",
       "    </tr>\n",
       "    <tr>\n",
       "      <td>14</td>\n",
       "      <td>159.0</td>\n",
       "      <td>30.0</td>\n",
       "      <td>1.297380</td>\n",
       "      <td>38.226381</td>\n",
       "      <td>4.0</td>\n",
       "    </tr>\n",
       "    <tr>\n",
       "      <td>15</td>\n",
       "      <td>163.0</td>\n",
       "      <td>33.0</td>\n",
       "      <td>1.254087</td>\n",
       "      <td>36.950770</td>\n",
       "      <td>4.0</td>\n",
       "    </tr>\n",
       "    <tr>\n",
       "      <td>16</td>\n",
       "      <td>167.0</td>\n",
       "      <td>35.0</td>\n",
       "      <td>1.212238</td>\n",
       "      <td>35.717726</td>\n",
       "      <td>4.0</td>\n",
       "    </tr>\n",
       "    <tr>\n",
       "      <td>17</td>\n",
       "      <td>172.0</td>\n",
       "      <td>37.0</td>\n",
       "      <td>1.161885</td>\n",
       "      <td>34.234121</td>\n",
       "      <td>4.0</td>\n",
       "    </tr>\n",
       "    <tr>\n",
       "      <td>18</td>\n",
       "      <td>176.0</td>\n",
       "      <td>39.0</td>\n",
       "      <td>1.123113</td>\n",
       "      <td>33.091732</td>\n",
       "      <td>4.0</td>\n",
       "    </tr>\n",
       "    <tr>\n",
       "      <td>19</td>\n",
       "      <td>180.0</td>\n",
       "      <td>41.0</td>\n",
       "      <td>1.085635</td>\n",
       "      <td>31.987464</td>\n",
       "      <td>4.0</td>\n",
       "    </tr>\n",
       "  </tbody>\n",
       "</table>\n",
       "</div>"
      ],
      "text/plain": [
       "    depth  slope    p_rate       [be]  e_rate\n",
       "0   100.0    0.0  2.140315  63.062856     4.0\n",
       "1   104.0    3.0  2.068893  60.958454     4.0\n",
       "2   108.0    5.0  1.999854  58.924275     4.0\n",
       "3   113.0    7.0  1.916786  56.476742     4.0\n",
       "4   117.0    9.0  1.852823  54.592118     4.0\n",
       "5   121.0   11.0  1.790995  52.770384     4.0\n",
       "6   125.0   14.0  1.731230  51.009441     4.0\n",
       "7   129.0   16.0  1.673459  49.307260     4.0\n",
       "8   134.0   18.0  1.603948  47.259188     4.0\n",
       "9   138.0   20.0  1.550425  45.682153     4.0\n",
       "10  142.0   22.0  1.498687  44.157744     4.0\n",
       "11  146.0   24.0  1.448676  42.684203     4.0\n",
       "12  151.0   26.0  1.388502  40.911233     4.0\n",
       "13  155.0   28.0  1.342168  39.546029     4.0\n",
       "14  159.0   30.0  1.297380  38.226381     4.0\n",
       "15  163.0   33.0  1.254087  36.950770     4.0\n",
       "16  167.0   35.0  1.212238  35.717726     4.0\n",
       "17  172.0   37.0  1.161885  34.234121     4.0\n",
       "18  176.0   39.0  1.123113  33.091732     4.0\n",
       "19  180.0   41.0  1.085635  31.987464     4.0"
      ]
     },
     "execution_count": 18,
     "metadata": {},
     "output_type": "execute_result"
    }
   ],
   "source": [
    "depth2sap"
   ]
  },
  {
   "cell_type": "markdown",
   "metadata": {},
   "source": [
    "## PART II\n",
    "### Calculating the effect of changing soil thickness"
   ]
  },
  {
   "cell_type": "markdown",
   "metadata": {},
   "source": [
    "Here, coefficients for slope-dependence of sediment flux are stored in a list"
   ]
  },
  {
   "cell_type": "code",
   "execution_count": 20,
   "metadata": {},
   "outputs": [],
   "source": [
    "# reference coefficient from McKean et al. (1993) is 360\n",
    "Qs_coef = np.linspace(400, 210, 100).astype(int)"
   ]
  },
  {
   "cell_type": "markdown",
   "metadata": {},
   "source": [
    "Change in the depth to saprolite is calculated from a linear relationship between a coefficient and the slope."
   ]
  },
  {
   "cell_type": "code",
   "execution_count": 21,
   "metadata": {},
   "outputs": [],
   "source": [
    "sed_out = [] # initialize an empty list\n",
    "\n",
    "for coef in Qs_coef:\n",
    "    sdata = np.array(depth2sap['slope']*0.01) # store slope values in list\n",
    "    sed_out.append(coef * sdata) # linear function of flux coefficient and slope\n",
    "    \n",
    "    e_run = pd.DataFrame() # temporary dataframe\n",
    "    e_run['sed_out'] = sed_out # append slope-dependent transport values\n",
    "\n",
    "e_run = e_run.T.reset_index(drop=True) # transpose rows to colums\n",
    "e_run.columns = Qs_coef # assign column names from coefficient list\n",
    "e_run = e_run.add_prefix('Qs_') "
   ]
  },
  {
   "cell_type": "markdown",
   "metadata": {},
   "source": [
    "Define a function that will be used below:"
   ]
  },
  {
   "cell_type": "markdown",
   "metadata": {},
   "source": [
    "Here, the column names are stored as a list."
   ]
  },
  {
   "cell_type": "code",
   "execution_count": 22,
   "metadata": {},
   "outputs": [],
   "source": [
    "col_list = e_run.columns.to_list()"
   ]
  },
  {
   "cell_type": "markdown",
   "metadata": {},
   "source": [
    "The dataframe content is expanded into unique rows."
   ]
  },
  {
   "cell_type": "code",
   "execution_count": 23,
   "metadata": {},
   "outputs": [],
   "source": [
    "sed_flux = explode(e_run, lst_cols=col_list)"
   ]
  },
  {
   "cell_type": "markdown",
   "metadata": {},
   "source": [
    "Values representing sediment flux are subtracted from the original depth values and stored in a new df."
   ]
  },
  {
   "cell_type": "code",
   "execution_count": 24,
   "metadata": {},
   "outputs": [],
   "source": [
    "new_depth =  sed_flux.rsub(depth2sap['depth'], axis=0) # subtract sed_flux from original depths\n",
    "new_depth[new_depth < 0] = 0 # replace negative values with 0\n",
    "new_depth = new_depth.round(0)"
   ]
  },
  {
   "cell_type": "markdown",
   "metadata": {},
   "source": [
    "The function for determining $^{10}$Be production rates at a given depth are determined for every cell and stored in a new df."
   ]
  },
  {
   "cell_type": "code",
   "execution_count": 25,
   "metadata": {},
   "outputs": [],
   "source": [
    "new_prate = new_depth.applymap(p_rate) "
   ]
  },
  {
   "cell_type": "markdown",
   "metadata": {},
   "source": [
    "The function for calculating erosion is applied to the modeled data and an apparent soil production rate for each element is stored in a new dataframe. The concentrations of $^{10}$Be used in this calculation are derived from the steady-state condition. "
   ]
  },
  {
   "cell_type": "code",
   "execution_count": 26,
   "metadata": {},
   "outputs": [],
   "source": [
    "soil_prod = new_prate.apply(e_z).round(0)\n",
    "soil_prod = soil_prod.add_suffix('_rates')"
   ]
  },
  {
   "cell_type": "markdown",
   "metadata": {},
   "source": [
    "## PART III\n",
    "### Fitting the modeled data\n",
    "\n",
    "Define the exponential regression function to be called."
   ]
  },
  {
   "cell_type": "markdown",
   "metadata": {},
   "source": [
    "Data frames containing the modeled depths and soil production rate values are joined into a singe data frame."
   ]
  },
  {
   "cell_type": "code",
   "execution_count": 27,
   "metadata": {},
   "outputs": [],
   "source": [
    "dfs = [new_depth, soil_prod]\n",
    "modeled_scenarios = pd.concat(dfs, axis=1, join='inner')"
   ]
  },
  {
   "cell_type": "markdown",
   "metadata": {},
   "source": [
    "Curve fitting is used to determine the coefficients of an exponential regression to the modeled data:"
   ]
  },
  {
   "cell_type": "code",
   "execution_count": 28,
   "metadata": {},
   "outputs": [],
   "source": [
    "result = [] # initialize lists\n",
    "label = []\n",
    "\n",
    "for depths in new_depth.columns:\n",
    "    xdata = new_depth[depths] # loop through depths\n",
    "    ydata = soil_prod.loc[:,soil_prod.columns.str.startswith(depths)].squeeze() \n",
    "    # soil production rates corresponding to the depth array\n",
    "        \n",
    "    popt, pcov = curve_fit(exponential_fit, xdata, ydata, p0=(100, 0.01))\n",
    "    # find parameters for the exponential regression \n",
    "    \n",
    "    result.append(popt) # store results\n",
    "    label.append(depths) # store labels"
   ]
  },
  {
   "cell_type": "markdown",
   "metadata": {},
   "source": [
    "Store the fit parameters in a dictionary."
   ]
  },
  {
   "cell_type": "code",
   "execution_count": 29,
   "metadata": {},
   "outputs": [],
   "source": [
    "spf_dict = dict(zip(label, result))"
   ]
  },
  {
   "cell_type": "markdown",
   "metadata": {},
   "source": [
    "Add the steady-state scenario to the dictionary:"
   ]
  },
  {
   "cell_type": "markdown",
   "metadata": {},
   "source": [
    "Plot the Qs coefficient values against the best-fit exponent of the resulting model."
   ]
  },
  {
   "cell_type": "code",
   "execution_count": 30,
   "metadata": {},
   "outputs": [],
   "source": [
    "exp_val = [elem[1] for elem in spf_dict.values()]\n",
    "coef_val = list(spf_dict.keys())"
   ]
  },
  {
   "cell_type": "code",
   "execution_count": 31,
   "metadata": {},
   "outputs": [],
   "source": [
    "data = zip(Qs_coef, exp_val)\n",
    "save_df = pd.DataFrame(data=data, columns=['Qs_coef', 'exp_val'])\n",
    "save_df.to_csv('exp_list')"
   ]
  },
  {
   "cell_type": "code",
   "execution_count": 36,
   "metadata": {},
   "outputs": [
    {
     "data": {
      "image/png": "[encoded data removed]",
      "text/plain": [
       "<Figure size 576x432 with 2 Axes>"
      ]
     },
     "metadata": {
      "needs_background": "light"
     },
     "output_type": "display_data"
    }
   ],
   "source": [
    "colormap = plt.get_cmap('hsv')\n",
    "vmax = max(exp_val)\n",
    "\n",
    "fig, ax = plt.subplots(figsize=(8,6))\n",
    "\n",
    "ss = ax.scatter(exp_val, Qs_coef, s=6, c=exp_val, vmin=0, vmax=vmax)\n",
    "ax.axhspan(375, 325, alpha=0.2, fc='gray', ec='none')\n",
    "\n",
    "ax.invert_yaxis()\n",
    "ax.set_ylabel('Linear flux coefficient')\n",
    "ax.set_xticks([])\n",
    "\n",
    "# Colorbar  -------------------------------------------------------------------------------\n",
    "fig.colorbar(ss, orientation='horizontal', pad=0.02, \n",
    "              label='Exponent value')\n",
    "\n",
    "# Arrow  ----------------------------------------------------------------------------------\n",
    "ax.annotate(\"\",\n",
    "            xy=(0.97, 0.28), xycoords='figure fraction',\n",
    "            xytext=(0.97, 0.88), textcoords='figure fraction',\n",
    "            arrowprops=dict(arrowstyle=\"<-\",\n",
    "                            connectionstyle=\"arc3\"),\n",
    "            )\n",
    "\n",
    "plt.show()"
   ]
  },
  {
   "cell_type": "markdown",
   "metadata": {},
   "source": [
    "## PART IV\n",
    "### Visualize the model results and compare to published studies"
   ]
  },
  {
   "cell_type": "markdown",
   "metadata": {},
   "source": [
    "Generate a dictionary that stores some coefficients of fit from the published literature:"
   ]
  },
  {
   "cell_type": "code",
   "execution_count": 37,
   "metadata": {},
   "outputs": [],
   "source": [
    "published_dict = ({'NZ': [1815, 0.058],\n",
    "                  'TV': [86.14, 0.024],\n",
    "                  'SG': [160.77, 0.033],\n",
    "                  'SK': [40.39, 0.00077],\n",
    "                  'SA': [5.530480, 0.001136],\n",
    "                  'CA': [84.58, 0.017],\n",
    "                  'OR': [157.35, 0.01]})"
   ]
  },
  {
   "cell_type": "code",
   "execution_count": 38,
   "metadata": {},
   "outputs": [],
   "source": [
    "ss_coef, ss_pcov = curve_fit(exponential_fit, depth2sap['depth'], depth2sap['e_rate'], p0=(100, 0.01))\n",
    "spf_dict.update({'ss': ss_coef})"
   ]
  },
  {
   "cell_type": "markdown",
   "metadata": {},
   "source": [
    "An array representing theoretical soil depths is generated for the plot:"
   ]
  },
  {
   "cell_type": "code",
   "execution_count": 39,
   "metadata": {},
   "outputs": [],
   "source": [
    "x_axis = np.linspace(0, 80, num=20)"
   ]
  },
  {
   "cell_type": "markdown",
   "metadata": {},
   "source": [
    "Define a function for controlling the plot tick style:"
   ]
  },
  {
   "cell_type": "code",
   "execution_count": 40,
   "metadata": {},
   "outputs": [],
   "source": [
    "def ticks(y, pos):\n",
    "    return r'$e^{:.0f}$'.format(np.log(y))"
   ]
  },
  {
   "cell_type": "markdown",
   "metadata": {},
   "source": [
    "Call on the values stored in the dictionary \"spf_dict\" to plot the soil production function of each modeled scenario:"
   ]
  },
  {
   "cell_type": "code",
   "execution_count": 41,
   "metadata": {},
   "outputs": [],
   "source": [
    "def match_color(exponent):\n",
    "    cmap = mpl.cm.get_cmap('viridis')\n",
    "    norm = mpl.colors.Normalize(vmin=0, vmax=vmax)\n",
    "    rgba = cmap(norm(exponent))\n",
    "    \n",
    "    return rgba"
   ]
  },
  {
   "cell_type": "code",
   "execution_count": 46,
   "metadata": {},
   "outputs": [
    {
     "data": {
      "image/png": "[encoded data removed]",
      "text/plain": [
       "<Figure size 1080x504 with 2 Axes>"
      ]
     },
     "metadata": {
      "needs_background": "light"
     },
     "output_type": "display_data"
    }
   ],
   "source": [
    "fig, (ax, ax1) = plt.subplots(1,2, figsize=(15,7), sharey=True)\n",
    "\n",
    "# Visualize the soil production functions -------------------------------------------------\n",
    "\n",
    "# steady-state \n",
    "ax.plot(x_axis, exponential_fit(x_axis, *spf_dict['ss']), color = 'r', \n",
    "        label='y=%5.1f $e^{%5.3f h}$' %tuple(spf_dict['ss']))\n",
    "\n",
    "#Qs coefficient = 350\n",
    "ax.plot(x_axis, exponential_fit(x_axis, *spf_dict['Qs_350']), color = match_color(spf_dict['Qs_350'][1]), \n",
    "        label='y=%5.1f $e^{%5.3f h}$' %tuple(spf_dict['Qs_350']))\n",
    "\n",
    "# Qs coefficient = 250\n",
    "ax.plot(x_axis, exponential_fit(x_axis, *spf_dict['Qs_250']), color = match_color(spf_dict['Qs_250'][1]), \n",
    "        label='y=%5.1f $e^{%5.3f h}$' %tuple(spf_dict['Qs_250']))\n",
    "\n",
    "# Qs coefficient = 225\n",
    "ax.plot(x_axis, exponential_fit(x_axis, *spf_dict['Qs_225']), color = match_color(spf_dict['Qs_225'][1]), \n",
    "        label='y=%5.1f $e^{%5.3f h}$' %tuple(spf_dict['Qs_225']))\n",
    "\n",
    "# Compare to published soil production functions -------------------------------------------------\n",
    "\n",
    "# Kruger Nat. Park, South Africa\n",
    "ax1.plot(x_axis, exponential_fit(x_axis, *published_dict['SA']), color='r', \n",
    "        label='y=%5.1f $e^{%5.3f h}$' %tuple(published_dict['SA']))\n",
    "\n",
    "# Tennessee Valley, CA, USA\n",
    "ax1.plot(x_axis, exponential_fit(x_axis, *published_dict['TV']), color = match_color(published_dict['TV'][1]), \n",
    "        label='y=%5.1f $e^{%5.3f h}$' %tuple(published_dict['TV']))\n",
    "\n",
    "# San Gabriels, CA, USA\n",
    "ax1.plot(x_axis, exponential_fit(x_axis, *published_dict['SG']), color = match_color(published_dict['SG'][1]), \n",
    "        label='y=%5.1f $e^{%5.3f h}$' %tuple(published_dict['SG']))\n",
    "\n",
    "# Southern Alips, New Zealand\n",
    "ax1.plot(x_axis, exponential_fit(x_axis, *published_dict['NZ']), color = match_color(published_dict['NZ'][1]), \n",
    "        label='y=%5.1f $e^{%5.3f h}$' %tuple(published_dict['NZ']))\n",
    "\n",
    "\n",
    "# Plot parameters -------------------------------------------------------------------------------\n",
    "# Left\n",
    "ax.semilogy(basey=np.e)   # y to log scale\n",
    "ax.yaxis.set_major_formatter(mtick.FuncFormatter(ticks)) # e^\n",
    "ax.legend(bbox_to_anchor=(0., -0.2, 1., 1.), loc='lower left',\n",
    "           ncol=2, mode=\"expand\", borderaxespad=0.5)\n",
    "ax.set_ylabel('Soil production rates [L/T]')\n",
    "ax.set_xlabel(' Soil depth [L]')\n",
    "ax.set_title('Soil production functions of \\nmodeled scenarios')\n",
    "\n",
    "# Right\n",
    "ax1.semilogy(basey=np.e)   \n",
    "ax1.yaxis.set_major_formatter(mtick.FuncFormatter(ticks))\n",
    "ax1.yaxis.set_tick_params(labelleft=True)\n",
    "ax1.legend(bbox_to_anchor=(0., -0.2, 1., 1.), loc='lower left',\n",
    "           ncol=2, mode=\"expand\", borderaxespad=0.5)\n",
    "ax1.set_xlabel(' Soil depth [L]')\n",
    "ax1.set_title('Soil production functions from \\npublished studies')\n",
    "\n",
    "plt.show()"
   ]
  },
  {
   "cell_type": "markdown",
   "metadata": {},
   "source": [
    "Here, arrays of the eroded surfaces are generated for the visualization:"
   ]
  },
  {
   "cell_type": "code",
   "execution_count": null,
   "metadata": {},
   "outputs": [],
   "source": [
    "surf350 = sap_soil - new_depth.iloc[:,0]\n",
    "surf250 = sap_soil - new_depth.iloc[:,1]\n",
    "surf225 = sap_soil - new_depth.iloc[:,2]\n",
    "surf100 = sap_soil - new_depth.iloc[:,3]"
   ]
  },
  {
   "cell_type": "markdown",
   "metadata": {},
   "source": [
    "The changing soil surface and the apparent soil production rates calculated for each are visualized:"
   ]
  },
  {
   "cell_type": "code",
   "execution_count": null,
   "metadata": {},
   "outputs": [],
   "source": [
    "# Set plot parameters -------------------------------------------------\n",
    "rcParams['image.cmap'] = 'viridis'\n",
    "rcParams['font.size'] = 14\n",
    "rcParams['lines.linewidth'] = 0.75\n",
    "\n",
    "fig, ax = plt.subplots(figsize=(11,7))\n",
    "\n",
    "# Visualize the UNERODED subaerial surface and saprolite -------------------------------------------------\n",
    "ax.plot(x, sap_soil, color='k', linewidth=3, label='Soil-saprolite interface') # soil-saprolite interface\n",
    "ax.fill_between(x, 800, sap_soil, facecolor='white', hatch='//', edgecolor='lightgrey', label='Bedrock') # color in bedrock\n",
    "ax.plot(x, curv_soil, color='k', linestyle=':', label='Modeled subaerial surfaces', zorder=1) # subaerial soil surface \n",
    "ax.fill_between(x, sap_soil, curv_soil, alpha=0.5, color='lightgrey', label='Mobile regolith') # color in soil\n",
    "\n",
    "# Visualize the modeled erosional surfaces -------------------------------------------------\n",
    "ax.plot(x, surf350, color='k', label='', zorder=1) \n",
    "ax.plot(x, surf225, color='k', label='', zorder=1) \n",
    "ax.plot(x, surf100, color='k', label='', zorder=1) \n",
    "\n",
    "# Visualize the modeled soil production rates -------------------------------------------------\n",
    "ss = ax.scatter(x, curv_soil, c=depth2sap['e_rate'], s=50, zorder=2, label = 'Modeled soil production rates')\n",
    "ax.scatter(x, surf350, c=soil_prod['Qs_350_rates'], s=40, zorder=2)\n",
    "ax.scatter(x, surf225, c=soil_prod['Qs_225_rates'], s=40, zorder=2)\n",
    "ax.scatter(x, surf100, c=soil_prod['Qs_100_rates'], s=40, zorder=2)\n",
    "\n",
    "# Plot parameters -------------------------------------------------------------------------------\n",
    "\n",
    "ax.invert_yaxis()\n",
    "ax.set_axis_off()\n",
    "ax.legend(frameon=False, bbox_to_anchor=(1.35, 1), loc='upper right')\n",
    "ax.set_title('Modeled Erosion Scenarios', fontsize=18)\n",
    "\n",
    "# Colorbar  -------------------------------------------------------------------------------\n",
    "fig.colorbar(ss, orientation='horizontal', pad=0., shrink=0.9, \n",
    "             ticks= [], label='Apparent soil production rate [L/T]')\n",
    "\n",
    "plt.show()"
   ]
  },
  {
   "cell_type": "code",
   "execution_count": null,
   "metadata": {},
   "outputs": [],
   "source": []
  },
  {
   "cell_type": "code",
   "execution_count": null,
   "metadata": {},
   "outputs": [],
   "source": []
  },
  {
   "cell_type": "code",
   "execution_count": null,
   "metadata": {},
   "outputs": [],
   "source": []
  },
  {
   "cell_type": "code",
   "execution_count": null,
   "metadata": {},
   "outputs": [],
   "source": []
  },
  {
   "cell_type": "code",
   "execution_count": null,
   "metadata": {},
   "outputs": [],
   "source": []
  },
  {
   "cell_type": "code",
   "execution_count": null,
   "metadata": {},
   "outputs": [],
   "source": []
  },
  {
   "cell_type": "code",
   "execution_count": null,
   "metadata": {},
   "outputs": [],
   "source": []
  },
  {
   "cell_type": "code",
   "execution_count": null,
   "metadata": {},
   "outputs": [],
   "source": []
  }
 ],
 "metadata": {
  "anaconda-cloud": {},
  "kernelspec": {
   "display_name": "Python 3",
   "language": "python",
   "name": "python3"
  },
  "language_info": {
   "codemirror_mode": {
    "name": "ipython",
    "version": 3
   },
   "file_extension": ".py",
   "mimetype": "text/x-python",
   "name": "python",
   "nbconvert_exporter": "python",
   "pygments_lexer": "ipython3",
   "version": "3.7.4"
  }
 },
 "nbformat": 4,
 "nbformat_minor": 4
}
