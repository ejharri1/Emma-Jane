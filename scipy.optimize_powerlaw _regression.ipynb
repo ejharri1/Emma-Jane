{
 "cells": [
  {
   "cell_type": "markdown",
   "metadata": {},
   "source": [
    "I am trying to get the exponential fit model right. As a first pass I will use only the real dataset. "
   ]
  },
  {
   "cell_type": "code",
   "execution_count": 78,
   "metadata": {},
   "outputs": [],
   "source": [
    "import pandas as pd\n",
    "from matplotlib import pyplot as plt\n",
    "import numpy as np\n",
    "from matplotlib import rcParams\n",
    "import scipy.stats as stats \n",
    "import matplotlib.ticker as plticker\n",
    "from scipy.optimize import curve_fit\n",
    "from scipy import optimize\n",
    "from lmfit import minimize, Parameters, Parameter, report_fit"
   ]
  },
  {
   "cell_type": "code",
   "execution_count": 79,
   "metadata": {},
   "outputs": [
    {
     "data": {
      "text/html": [
       "<div>\n",
       "<style scoped>\n",
       "    .dataframe tbody tr th:only-of-type {\n",
       "        vertical-align: middle;\n",
       "    }\n",
       "\n",
       "    .dataframe tbody tr th {\n",
       "        vertical-align: top;\n",
       "    }\n",
       "\n",
       "    .dataframe thead th {\n",
       "        text-align: right;\n",
       "    }\n",
       "</style>\n",
       "<table border=\"1\" class=\"dataframe\">\n",
       "  <thead>\n",
       "    <tr style=\"text-align: right;\">\n",
       "      <th></th>\n",
       "      <th>DA</th>\n",
       "      <th>Q</th>\n",
       "    </tr>\n",
       "  </thead>\n",
       "  <tbody>\n",
       "    <tr>\n",
       "      <th>0</th>\n",
       "      <td>82.45000</td>\n",
       "      <td>8.662133</td>\n",
       "    </tr>\n",
       "    <tr>\n",
       "      <th>1</th>\n",
       "      <td>27.15000</td>\n",
       "      <td>0.684314</td>\n",
       "    </tr>\n",
       "    <tr>\n",
       "      <th>2</th>\n",
       "      <td>16.27500</td>\n",
       "      <td>0.868685</td>\n",
       "    </tr>\n",
       "    <tr>\n",
       "      <th>3</th>\n",
       "      <td>117.27500</td>\n",
       "      <td>3.602221</td>\n",
       "    </tr>\n",
       "    <tr>\n",
       "      <th>4</th>\n",
       "      <td>382.97500</td>\n",
       "      <td>7.995491</td>\n",
       "    </tr>\n",
       "    <tr>\n",
       "      <th>5</th>\n",
       "      <td>1596.28000</td>\n",
       "      <td>24.091741</td>\n",
       "    </tr>\n",
       "    <tr>\n",
       "      <th>6</th>\n",
       "      <td>127.67500</td>\n",
       "      <td>8.038101</td>\n",
       "    </tr>\n",
       "    <tr>\n",
       "      <th>7</th>\n",
       "      <td>9.44982</td>\n",
       "      <td>0.935000</td>\n",
       "    </tr>\n",
       "    <tr>\n",
       "      <th>8</th>\n",
       "      <td>2609.57000</td>\n",
       "      <td>119.529055</td>\n",
       "    </tr>\n",
       "    <tr>\n",
       "      <th>9</th>\n",
       "      <td>3367.00000</td>\n",
       "      <td>271.842000</td>\n",
       "    </tr>\n",
       "  </tbody>\n",
       "</table>\n",
       "</div>"
      ],
      "text/plain": [
       "           DA           Q\n",
       "0    82.45000    8.662133\n",
       "1    27.15000    0.684314\n",
       "2    16.27500    0.868685\n",
       "3   117.27500    3.602221\n",
       "4   382.97500    7.995491\n",
       "5  1596.28000   24.091741\n",
       "6   127.67500    8.038101\n",
       "7     9.44982    0.935000\n",
       "8  2609.57000  119.529055\n",
       "9  3367.00000  271.842000"
      ]
     },
     "execution_count": 79,
     "metadata": {},
     "output_type": "execute_result"
    }
   ],
   "source": [
    "#Generate df of the observations\n",
    "#DA is in km^2 and Q is in l/s\n",
    "d={'DA':[82.450, 27.150, 16.275, 117.275, 382.975,\n",
    "                              1596.280, 127.675, 9.44982, 2609.570, 3367.000], \n",
    "                             'Q':[8.662133483, 0.68431375, 0.868684824, 3.60222113,\n",
    "                              7.995490543, 24.09174135, 8.038100597, 0.935,\n",
    "                              119.5290555, 271.842]}\n",
    "df = pd.DataFrame(data=d, dtype=float)\n",
    "df"
   ]
  },
  {
   "cell_type": "code",
   "execution_count": 97,
   "metadata": {},
   "outputs": [],
   "source": [
    "#Observed data\n",
    "xdata = df['DA']\n",
    "ydata = df['Q']\n",
    "\n",
    "#define general powerlaw equation\n",
    "def func(x, N, a, d):\n",
    "    return N*np.exp(a*x)+d\n",
    "\n",
    "##TRENDS:\n",
    "#smaller A gives a smaller amplitude\n",
    "#negative A flips the curve across a horizontal plane\n",
    "#smaller c controls the shape by flattening the \"knee\" of the curve\n",
    "#negative c flips the curve across a vertical plane\n",
    "#d sets the y-intercept"
   ]
  },
  {
   "cell_type": "code",
   "execution_count": 98,
   "metadata": {},
   "outputs": [
    {
     "data": {
      "image/png": "[encoded data removed]",
      "text/plain": [
       "<Figure size 432x288 with 1 Axes>"
      ]
     },
     "metadata": {},
     "output_type": "display_data"
    }
   ],
   "source": [
    "# SURVEY to test for param values\n",
    "plt.plot(xdata, ydata, \"ko\", label=\"Data\")\n",
    "\n",
    "x_lin = np.linspace(0, xdata.max(), 50) # 50 evenly spaced digits between 0 and max\n",
    "\n",
    "# Trials\n",
    "#a should be positive and <1\n",
    "N, a, d = 0.001, 0.009, 0.5\n",
    "y_trial1 = func(x_lin,  N,  a, d)\n",
    "y_trial2 = func(x_lin, 0.001, 0.006, 0.5)\n",
    "y_trial3 = func(x_lin, 0.001, 0.004, 0.5)\n",
    "\n",
    "plt.plot(x_lin, y_trial1, \"--\", label=\"Trial 1\")\n",
    "plt.plot(x_lin, y_trial2, \"--\", label=\"Trial 2\")\n",
    "plt.plot(x_lin, y_trial3, \"--\", label=\"Trial 3\")\n",
    "plt.ylim(-10,300)\n",
    "plt.legend()\n",
    "plt.show()"
   ]
  },
  {
   "cell_type": "code",
   "execution_count": 99,
   "metadata": {},
   "outputs": [
    {
     "data": {
      "image/png": "[encoded data removed]",
      "text/plain": [
       "<Figure size 432x288 with 1 Axes>"
      ]
     },
     "metadata": {},
     "output_type": "display_data"
    }
   ],
   "source": [
    "# SURVEY to test for param values\n",
    "plt.plot(xdata, ydata, \"ko\", label=\"Data\")\n",
    "\n",
    "x_lin = np.linspace(0, xdata.max(), 50) # 50 evenly spaced digits between 0 and max\n",
    "\n",
    "# Trials\n",
    "N, a, d = 0.05, 0.004, 0.5\n",
    "y_trial1 = func(x_lin,  N, a, d)\n",
    "y_trial2 = func(x_lin, 0.005, 0.004, 0.5)\n",
    "y_trial3 = func(x_lin, 0.0005, 0.004, 0.5)\n",
    "\n",
    "plt.plot(x_lin, y_trial1, \"--\", label=\"Trial 1\")\n",
    "plt.plot(x_lin, y_trial2, \"--\", label=\"Trial 2\")\n",
    "plt.plot(x_lin, y_trial3, \"--\", label=\"Trial 3\")\n",
    "plt.ylim(-10,300)\n",
    "plt.legend()\n",
    "plt.show()"
   ]
  },
  {
   "cell_type": "code",
   "execution_count": 130,
   "metadata": {},
   "outputs": [
    {
     "name": "stdout",
     "output_type": "stream",
     "text": [
      "('Estimated Parameters', array([ 6.09504802e+00,  1.13289792e-03, -3.33159155e+00]))\n"
     ]
    },
    {
     "data": {
      "image/png": "[encoded data removed]",
      "text/plain": [
       "<Figure size 432x288 with 1 Axes>"
      ]
     },
     "metadata": {},
     "output_type": "display_data"
    }
   ],
   "source": [
    "#define general powerlaw equation\n",
    "#def func(x, N, a, d):\n",
    "#    return N*np.exp(a*x)+d\n",
    "\n",
    "# REGRESSION ------------------------------------------------------------------\n",
    "p0 = [0.005, 0.004, -0.05]                                 # guessed params\n",
    "w, _ = optimize.curve_fit(func, xdata, ydata, p0=p0)     \n",
    "print(\"Estimated Parameters\", w)  \n",
    "\n",
    "# Model\n",
    "y_model = func(x_lin, *w)\n",
    "\n",
    "# PLOT ------------------------------------------------------------------------\n",
    "# Visualize data and fitted curves\n",
    "plt.plot(xdata, ydata, \"bo\", label=\"Data\")\n",
    "plt.plot(x_lin, y_model, \"r--\", label=\"Fit\")\n",
    "plt.title(\"Least squares regression\")\n",
    "plt.legend(loc=\"upper left\")\n",
    "plt.show()"
   ]
  },
  {
   "cell_type": "code",
   "execution_count": 131,
   "metadata": {},
   "outputs": [],
   "source": [
    "obs_values = ydata\n",
    "pred_values = []\n",
    "residuals = []\n",
    "\n",
    "#calculates the predicted values from the power law fit estimated params\n",
    "for i in xdata:\n",
    "    pred_i = (w[0] * (np.exp(w[1]*(i)))+w[2])\n",
    "    pred_values.append(pred_i)\n",
    "    \n",
    "#calculates the residual for each pair of observations\n",
    "for obs_v,pred_v in zip(obs_values,pred_values):\n",
    "    Residual = float(obs_v - pred_v)\n",
    "    residuals.append(Residual)\n",
    "    \n",
    "#calculate RMSE\n",
    "n_residuals = len(residuals)\n",
    "sqare_resids = np.square(residuals)\n",
    "\n",
    "RMSE = np.sqrt((sqare_resids.sum())/(n_residuals-1))\n",
    "std_residuals = (residuals/RMSE)"
   ]
  },
  {
   "cell_type": "code",
   "execution_count": 132,
   "metadata": {},
   "outputs": [
    {
     "data": {
      "image/png": "[encoded data removed]",
      "text/plain": [
       "<Figure size 504x360 with 1 Axes>"
      ]
     },
     "metadata": {},
     "output_type": "display_data"
    }
   ],
   "source": [
    "fig, ax = plt.subplots(figsize=(7,5))\n",
    "plt.axhline(color='k')\n",
    "\n",
    "plt.scatter(xdata, std_residuals)\n",
    "plt.show()"
   ]
  },
  {
   "cell_type": "code",
   "execution_count": 135,
   "metadata": {},
   "outputs": [],
   "source": [
    "DAQ = pd.read_csv('DA-QCalc.csv')\n",
    "#DAQ"
   ]
  },
  {
   "cell_type": "code",
   "execution_count": null,
   "metadata": {},
   "outputs": [],
   "source": []
  }
 ],
 "metadata": {
  "kernelspec": {
   "display_name": "Python 2",
   "language": "python",
   "name": "python2"
  },
  "language_info": {
   "codemirror_mode": {
    "name": "ipython",
    "version": 2
   },
   "file_extension": ".py",
   "mimetype": "text/x-python",
   "name": "python",
   "nbconvert_exporter": "python",
   "pygments_lexer": "ipython2",
   "version": "2.7.15"
  }
 },
 "nbformat": 4,
 "nbformat_minor": 2
}
