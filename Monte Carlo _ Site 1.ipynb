{
 "cells": [
  {
   "cell_type": "code",
   "execution_count": 1,
   "metadata": {
    "collapsed": true
   },
   "outputs": [],
   "source": [
    "import matplotlib.pyplot as plt\n",
    "import numpy as np\n",
    "import pandas as pd\n",
    "from matplotlib import rcParams\n",
    "import random"
   ]
  },
  {
   "cell_type": "code",
   "execution_count": 2,
   "metadata": {
    "collapsed": true
   },
   "outputs": [],
   "source": [
    "Site_01_full = pd.read_csv('US01_full_profile_all_integrations_filtered.csv')\n",
    "Site_01 = Site_01_full.dropna()"
   ]
  },
  {
   "cell_type": "code",
   "execution_count": 3,
   "metadata": {
    "collapsed": false
   },
   "outputs": [],
   "source": [
    "y = Site_01['depth']\n",
    "UU = Site_01['U234_U238_CORR']\n",
    "UTh = Site_01['Th230_U238_CORR']\n",
    "UUerr = Site_01['U234_U238_CORR_Int2SE']\n",
    "UTherr = Site_01['Th230_U238_CORR_Int2SE']"
   ]
  },
  {
   "cell_type": "code",
   "execution_count": null,
   "metadata": {
    "collapsed": false
   },
   "outputs": [],
   "source": [
    "UU_mc = pd.DataFrame(columns=['depth','UU_obs','UU_err','UU_pred', 'id'])\n",
    "\n",
    "for e in range(1000):\n",
    "    \n",
    "    for i in UU:\n",
    "        pred_i = random.uniform(UU,UUerr)\n",
    "        pred_i = pred_i.reset_index(drop=True)\n",
    "        \n",
    "        temp_runs = pd.DataFrame()\n",
    "        \n",
    "        temp_runs['depth']=y\n",
    "        temp_runs['UU_obs']=UU\n",
    "        temp_runs['UU_err']=UUerr\n",
    "        temp_runs['UU_pred']=pred_i\n",
    "        temp_runs['id']=e\n",
    "\n",
    "        UU_mc = UU_mc.append(pd.DataFrame(data=temp_runs))"
   ]
  },
  {
   "cell_type": "code",
   "execution_count": 7,
   "metadata": {
    "collapsed": false
   },
   "outputs": [
    {
     "data": {
      "text/html": [
       "<div>\n",
       "<style scoped>\n",
       "    .dataframe tbody tr th:only-of-type {\n",
       "        vertical-align: middle;\n",
       "    }\n",
       "\n",
       "    .dataframe tbody tr th {\n",
       "        vertical-align: top;\n",
       "    }\n",
       "\n",
       "    .dataframe thead th {\n",
       "        text-align: right;\n",
       "    }\n",
       "</style>\n",
       "<table border=\"1\" class=\"dataframe\">\n",
       "  <thead>\n",
       "    <tr style=\"text-align: right;\">\n",
       "      <th></th>\n",
       "      <th>depth</th>\n",
       "      <th>UU_obs</th>\n",
       "      <th>UU_err</th>\n",
       "      <th>UU_pred</th>\n",
       "    </tr>\n",
       "  </thead>\n",
       "  <tbody>\n",
       "    <tr>\n",
       "      <th>count</th>\n",
       "      <td>2.494549e+06</td>\n",
       "      <td>2.494549e+06</td>\n",
       "      <td>2.494549e+06</td>\n",
       "      <td>925812.000000</td>\n",
       "    </tr>\n",
       "    <tr>\n",
       "      <th>mean</th>\n",
       "      <td>1.340041e+02</td>\n",
       "      <td>9.012474e-01</td>\n",
       "      <td>7.725773e-02</td>\n",
       "      <td>0.489018</td>\n",
       "    </tr>\n",
       "    <tr>\n",
       "      <th>std</th>\n",
       "      <td>5.346241e+01</td>\n",
       "      <td>5.194983e-02</td>\n",
       "      <td>2.818470e-02</td>\n",
       "      <td>0.238291</td>\n",
       "    </tr>\n",
       "    <tr>\n",
       "      <th>min</th>\n",
       "      <td>1.800000e+01</td>\n",
       "      <td>6.930000e-01</td>\n",
       "      <td>3.700000e-02</td>\n",
       "      <td>0.037031</td>\n",
       "    </tr>\n",
       "    <tr>\n",
       "      <th>25%</th>\n",
       "      <td>8.880000e+01</td>\n",
       "      <td>8.800000e-01</td>\n",
       "      <td>6.000000e-02</td>\n",
       "      <td>0.284828</td>\n",
       "    </tr>\n",
       "    <tr>\n",
       "      <th>50%</th>\n",
       "      <td>1.452000e+02</td>\n",
       "      <td>9.050000e-01</td>\n",
       "      <td>7.000000e-02</td>\n",
       "      <td>0.486455</td>\n",
       "    </tr>\n",
       "    <tr>\n",
       "      <th>75%</th>\n",
       "      <td>1.776000e+02</td>\n",
       "      <td>9.280000e-01</td>\n",
       "      <td>8.500000e-02</td>\n",
       "      <td>0.694375</td>\n",
       "    </tr>\n",
       "    <tr>\n",
       "      <th>max</th>\n",
       "      <td>2.124000e+02</td>\n",
       "      <td>1.050000e+00</td>\n",
       "      <td>1.800000e-01</td>\n",
       "      <td>0.967995</td>\n",
       "    </tr>\n",
       "  </tbody>\n",
       "</table>\n",
       "</div>"
      ],
      "text/plain": [
       "              depth        UU_obs        UU_err        UU_pred\n",
       "count  2.494549e+06  2.494549e+06  2.494549e+06  925812.000000\n",
       "mean   1.340041e+02  9.012474e-01  7.725773e-02       0.489018\n",
       "std    5.346241e+01  5.194983e-02  2.818470e-02       0.238291\n",
       "min    1.800000e+01  6.930000e-01  3.700000e-02       0.037031\n",
       "25%    8.880000e+01  8.800000e-01  6.000000e-02       0.284828\n",
       "50%    1.452000e+02  9.050000e-01  7.000000e-02       0.486455\n",
       "75%    1.776000e+02  9.280000e-01  8.500000e-02       0.694375\n",
       "max    2.124000e+02  1.050000e+00  1.800000e-01       0.967995"
      ]
     },
     "execution_count": 7,
     "metadata": {},
     "output_type": "execute_result"
    }
   ],
   "source": [
    "UU_mc.describe()"
   ]
  },
  {
   "cell_type": "code",
   "execution_count": null,
   "metadata": {
    "collapsed": true
   },
   "outputs": [],
   "source": []
  }
 ],
 "metadata": {
  "anaconda-cloud": {},
  "kernelspec": {
   "display_name": "Python [default]",
   "language": "python",
   "name": "python2"
  },
  "language_info": {
   "codemirror_mode": {
    "name": "ipython",
    "version": 2
   },
   "file_extension": ".py",
   "mimetype": "text/x-python",
   "name": "python",
   "nbconvert_exporter": "python",
   "pygments_lexer": "ipython2",
   "version": "2.7.12"
  }
 },
 "nbformat": 4,
 "nbformat_minor": 1
}
